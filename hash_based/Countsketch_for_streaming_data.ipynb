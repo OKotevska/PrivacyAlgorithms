{
 "cells": [
  {
   "cell_type": "code",
   "execution_count": 1,
   "id": "yellow-bloom",
   "metadata": {},
   "outputs": [],
   "source": [
    "import numpy as np\n",
    "import pandas as pd"
   ]
  },
  {
   "cell_type": "code",
   "execution_count": 3,
   "id": "handed-difficulty",
   "metadata": {},
   "outputs": [
    {
     "name": "stdout",
     "output_type": "stream",
     "text": [
      "B value should be positive and greater than  -0.020032488333575224\n"
     ]
    }
   ],
   "source": [
    "# Change the k parameter only (sketch matrix size -- determine how much compression)\n",
    "# for example, if k=85, epsilon will be 5; if k=58, epsilon will be 2.5; if k=36, epsilon will be 1; if k=26, epsilon will be 0.5  \n",
    "import math\n",
    "import numpy as np\n",
    "# alpha is the bound, sigma is the variance\n",
    "alpha = 20.0\n",
    "sigma = (alpha*alpha)/4.0\n",
    "\n",
    "n = 144.0    # (1 day information)\n",
    "t = 200.0\n",
    "k = 36.0     # compression -- change it to get different epsilon value\n",
    "s = k\n",
    "\n",
    "B = 1 / (1/2 - ((alpha*alpha*k*(k-1)) / (alpha*alpha*(n-2))) * (1+math.log(n-k)) )\n",
    "print(\"B value should be positive and greater than \", B)"
   ]
  },
  {
   "cell_type": "code",
   "execution_count": 4,
   "id": "determined-baker",
   "metadata": {},
   "outputs": [
    {
     "data": {
      "text/plain": [
       "1.005844663563975"
      ]
     },
     "execution_count": 4,
     "metadata": {},
     "output_type": "execute_result"
    }
   ],
   "source": [
    "B = 0.0001\n",
    "epsilon = t * math.log(1 + ((B*alpha*alpha*k*(k-1)) / (alpha*alpha*(n-2))) * (1+math.log(n-k)))\n",
    "epsilon"
   ]
  },
  {
   "cell_type": "code",
   "execution_count": 5,
   "id": "clear-virtue",
   "metadata": {},
   "outputs": [],
   "source": [
    "df = pd.read_csv('../data/Residential-Profiles.csv')\n",
    "df = df.drop(columns='Time')"
   ]
  },
  {
   "cell_type": "code",
   "execution_count": 6,
   "id": "cognitive-steal",
   "metadata": {},
   "outputs": [
    {
     "name": "stdout",
     "output_type": "stream",
     "text": [
      "[0, 4464, 8496, 12960, 17280, 21744, 26064, 30528, 34992, 39312, 43776, 48096, 52560]\n"
     ]
    }
   ],
   "source": [
    "months = [31, 28, 31, 30, 31, 30, 31, 31, 30, 31, 30, 31]\n",
    "indices = list(np.cumsum((np.array(months) * 144)))\n",
    "indices = [0] + indices\n",
    "print(indices)"
   ]
  },
  {
   "cell_type": "code",
   "execution_count": 7,
   "id": "emotional-optics",
   "metadata": {},
   "outputs": [],
   "source": [
    "# streaming implementation\n",
    "def countSketchStreaming(matrixA, s):\n",
    "    s = int(s)\n",
    "    m,n = matrixA.shape\n",
    "    matrixC = np.zeros([m, s])\n",
    "    hashedIndices = np.random.choice(s, n, replace=True)\n",
    "    randSigns = np.random.choice(2, n, replace = True) * 2 - 1\n",
    "    for j in range(n):\n",
    "        a = matrixA[:, j]\n",
    "        h = hashedIndices[j]\n",
    "        g = randSigns[j]\n",
    "        matrixC[:,h] += g * a\n",
    "    return matrixC"
   ]
  },
  {
   "cell_type": "code",
   "execution_count": 8,
   "id": "departmental-still",
   "metadata": {},
   "outputs": [
    {
     "name": "stdout",
     "output_type": "stream",
     "text": [
      "For epsilon  1.005844663563975 , Mean Absolute Error (MAE) is  0.0026651422889349703\n"
     ]
    }
   ],
   "source": [
    "count = 0\n",
    "total_MAE = 0\n",
    "for house in houses:\n",
    "    for i in range(len(indices)-1):\n",
    "        inputMatrix = np.transpose(np.array(df.loc[indices[i]:(indices[i+1]-1),house]))\n",
    "        inputMatrix = np.reshape(inputMatrix, (months[i],-1))\n",
    "        matrixC = countSketchStreaming(inputMatrix, s)\n",
    "\n",
    "\n",
    "        rowNormsC = np.sqrt(np.sum(np.square(matrixC), 1))\n",
    "        distributionC = rowNormsC/sum(rowNormsC)\n",
    "        rowNormsA = np.sum(inputMatrix, axis=1)\n",
    "        distributionA = rowNormsA/sum(rowNormsA)\n",
    "\n",
    "        MAE = sum(abs(distributionC-distributionA))/len(distributionA)\n",
    "        total_MAE += MAE\n",
    "        count = count + 1\n",
    "\n",
    "MAE = total_MAE/count\n",
    "print(\"For epsilon \", epsilon, \", Mean Absolute Error (MAE) is \", MAE)"
   ]
  }
 ],
 "metadata": {
  "kernelspec": {
   "display_name": "Python 3",
   "language": "python",
   "name": "python3"
  },
  "language_info": {
   "codemirror_mode": {
    "name": "ipython",
    "version": 3
   },
   "file_extension": ".py",
   "mimetype": "text/x-python",
   "name": "python",
   "nbconvert_exporter": "python",
   "pygments_lexer": "ipython3",
   "version": "3.7.6"
  }
 },
 "nbformat": 4,
 "nbformat_minor": 5
}
