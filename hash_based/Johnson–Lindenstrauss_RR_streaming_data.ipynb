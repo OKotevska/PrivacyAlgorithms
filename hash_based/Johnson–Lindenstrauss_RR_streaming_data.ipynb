{
 "cells": [
  {
   "cell_type": "code",
   "execution_count": 1,
   "id": "skilled-switch",
   "metadata": {},
   "outputs": [],
   "source": [
    "import math\n",
    "import random\n",
    "import numpy as np\n",
    "import pandas as pd"
   ]
  },
  {
   "cell_type": "code",
   "execution_count": 2,
   "id": "approved-olive",
   "metadata": {},
   "outputs": [],
   "source": [
    "df = pd.read_csv('../data/Residential-Profiles.csv')"
   ]
  },
  {
   "cell_type": "code",
   "execution_count": 3,
   "id": "institutional-india",
   "metadata": {},
   "outputs": [],
   "source": [
    "# k = categorical attribute Aj contains k>2 possible values\n",
    "# B = bound the error with probability (1-B)\n",
    "# n = number of households 200 "
   ]
  },
  {
   "cell_type": "code",
   "execution_count": 4,
   "id": "narrative-permit",
   "metadata": {},
   "outputs": [],
   "source": [
    "# input parameters\n",
    "k = 16\n",
    "B = 0.3\n",
    "n = 200\n",
    "epsilon = 1"
   ]
  },
  {
   "cell_type": "code",
   "execution_count": 5,
   "id": "adopted-rwanda",
   "metadata": {},
   "outputs": [
    {
     "data": {
      "text/plain": [
       "0.15280230212803836"
      ]
     },
     "execution_count": 5,
     "metadata": {},
     "output_type": "execute_result"
    }
   ],
   "source": [
    "# compute Lambda\n",
    "lambda_ = math.sqrt(math.log(2*k/B)/(epsilon*epsilon*n))\n",
    "lambda_"
   ]
  },
  {
   "cell_type": "code",
   "execution_count": 6,
   "id": "impressive-glass",
   "metadata": {},
   "outputs": [
    {
     "data": {
      "text/plain": [
       "230"
      ]
     },
     "execution_count": 6,
     "metadata": {},
     "output_type": "execute_result"
    }
   ],
   "source": [
    "m = (math.log(k+1) * math.log(2/B))/(lambda_ * lambda_)\n",
    "m = int(m)\n",
    "m"
   ]
  },
  {
   "cell_type": "code",
   "execution_count": 7,
   "id": "alpine-beast",
   "metadata": {},
   "outputs": [
    {
     "data": {
      "text/plain": [
       "array([[0., 0., 0., ..., 0., 0., 0.],\n",
       "       [0., 0., 0., ..., 0., 0., 0.],\n",
       "       [0., 0., 0., ..., 0., 0., 0.],\n",
       "       ...,\n",
       "       [0., 0., 0., ..., 0., 0., 0.],\n",
       "       [0., 0., 0., ..., 0., 0., 0.],\n",
       "       [0., 0., 0., ..., 0., 0., 0.]])"
      ]
     },
     "execution_count": 7,
     "metadata": {},
     "output_type": "execute_result"
    }
   ],
   "source": [
    "# Generate random matrix phi\n",
    "matrix_phi = np.zeros((int(m), k))  # mXd shape\n",
    "matrix_phi"
   ]
  },
  {
   "cell_type": "code",
   "execution_count": 8,
   "id": "postal-italian",
   "metadata": {},
   "outputs": [
    {
     "data": {
      "text/plain": [
       "array([[-0.06593805, -0.06593805,  0.06593805, ..., -0.06593805,\n",
       "        -0.06593805, -0.06593805],\n",
       "       [ 0.06593805,  0.06593805, -0.06593805, ...,  0.06593805,\n",
       "        -0.06593805,  0.06593805],\n",
       "       [ 0.06593805,  0.06593805,  0.06593805, ..., -0.06593805,\n",
       "         0.06593805, -0.06593805],\n",
       "       ...,\n",
       "       [ 0.06593805, -0.06593805,  0.06593805, ..., -0.06593805,\n",
       "        -0.06593805,  0.06593805],\n",
       "       [-0.06593805, -0.06593805, -0.06593805, ..., -0.06593805,\n",
       "        -0.06593805,  0.06593805],\n",
       "       [ 0.06593805,  0.06593805,  0.06593805, ...,  0.06593805,\n",
       "        -0.06593805, -0.06593805]])"
      ]
     },
     "execution_count": 8,
     "metadata": {},
     "output_type": "execute_result"
    }
   ],
   "source": [
    "for i in range(matrix_phi.shape[0]):\n",
    "    for j in range(matrix_phi.shape[1]):\n",
    "        toss = np.random.random()\n",
    "        if toss <= 0.5:\n",
    "            matrix_phi[i,j] = -1 / math.sqrt(m) \n",
    "        else:\n",
    "            matrix_phi[i,j] = 1 / math.sqrt(m) \n",
    "            \n",
    "matrix_phi"
   ]
  },
  {
   "cell_type": "code",
   "execution_count": 9,
   "id": "massive-moscow",
   "metadata": {},
   "outputs": [],
   "source": [
    "def perturb(t,m):\n",
    "    epsilon = 1\n",
    "    c_epsilon = ((math.exp(epsilon) + 1)/(math.exp(epsilon) - 1))\n",
    "    p = ((math.exp(epsilon))/(math.exp(epsilon) + 1))\n",
    "    toss = np.random.random()\n",
    "    if toss <= p:\n",
    "        return c_epsilon*m*t\n",
    "    else:\n",
    "        return (-1)*c_epsilon*m*t\n",
    "    "
   ]
  },
  {
   "cell_type": "code",
   "execution_count": 10,
   "id": "pacific-creation",
   "metadata": {},
   "outputs": [],
   "source": [
    "def encode(value):\n",
    "    hist, bin_edges = np.histogram(value, bins=15 , range=(0,1500))\n",
    "    if value>1500:\n",
    "        hist = np.append(hist,1)\n",
    "    else:\n",
    "        hist = np.append(hist,0)\n",
    "    return list(hist)"
   ]
  },
  {
   "cell_type": "code",
   "execution_count": 11,
   "id": "sticky-speaking",
   "metadata": {},
   "outputs": [
    {
     "data": {
      "text/plain": [
       "'1/1/10 0:00'"
      ]
     },
     "execution_count": 11,
     "metadata": {},
     "output_type": "execute_result"
    }
   ],
   "source": [
    "# First timestamp histogram frequency estimation for all houses\n",
    "row = list(df. iloc[0, :]) \n",
    "row.pop(0)"
   ]
  },
  {
   "cell_type": "code",
   "execution_count": 12,
   "id": "through-uncle",
   "metadata": {},
   "outputs": [],
   "source": [
    "store = []\n",
    "for val in row:\n",
    "    s = random.randint(0, m-1)\n",
    "\n",
    "    encoded_value = encode(val)\n",
    "    itemindex = list(encoded_value).index(1)\n",
    "    t = matrix_phi[s, itemindex]\n",
    "\n",
    "    # user will send pertub it \n",
    "    t_prime = perturb(t,m)\n",
    "    # send server < 3 , -4.838746933262355>\n",
    "    temp = [s, t_prime]\n",
    "    store.append(temp)\n",
    "    "
   ]
  },
  {
   "cell_type": "code",
   "execution_count": 13,
   "id": "noble-burst",
   "metadata": {},
   "outputs": [],
   "source": [
    "Z_aggregate = np.array([0.0]*m)\n",
    "for store_i in store:\n",
    "    zz_i = [0]*m\n",
    "    zz_i[store_i[0]] = store_i[1]\n",
    "    \n",
    "    Z_aggregate += np.array(zz_i)\n",
    "    \n",
    "\n",
    "Z_aggregate = Z_aggregate/n"
   ]
  },
  {
   "cell_type": "code",
   "execution_count": 14,
   "id": "ceramic-going",
   "metadata": {},
   "outputs": [],
   "source": [
    "estimate = []\n",
    "for ite in range(k):\n",
    "    temp = np.inner(matrix_phi[:,ite], Z_aggregate)\n",
    "    estimate.append(temp)"
   ]
  },
  {
   "cell_type": "code",
   "execution_count": 15,
   "id": "better-headline",
   "metadata": {},
   "outputs": [],
   "source": [
    "JL_w_neg = estimate\n",
    "JL_w_neg = [x if x>=0 else 0 for x in JL_w_neg]\n",
    "JL_w_neg = JL_w_neg/sum(JL_w_neg)"
   ]
  },
  {
   "cell_type": "code",
   "execution_count": 16,
   "id": "eight-chemical",
   "metadata": {},
   "outputs": [
    {
     "name": "stdout",
     "output_type": "stream",
     "text": [
      "Relative freqency estimates for JLRR for epsilon=1:\n",
      "[0.11111111111111113, 0.0, 0.0707070707070707, 0.17171717171717166, 0.18181818181818182, 0.0, 0.0, 0.020202020202020207, 0.040404040404040414, 0.01010101010101011, 0.07070707070707072, 0.0, 0.0, 0.0707070707070707, 0.0707070707070707, 0.18181818181818182]\n"
     ]
    }
   ],
   "source": [
    "# Histogram probabilistic outputs of 16 bins\n",
    "# Paper shows average of 5 runs of the following result\n",
    "print(\"Relative freqency estimates for JLRR for epsilon=1:\")\n",
    "print(list(JL_w_neg))"
   ]
  }
 ],
 "metadata": {
  "kernelspec": {
   "display_name": "Python 3",
   "language": "python",
   "name": "python3"
  },
  "language_info": {
   "codemirror_mode": {
    "name": "ipython",
    "version": 3
   },
   "file_extension": ".py",
   "mimetype": "text/x-python",
   "name": "python",
   "nbconvert_exporter": "python",
   "pygments_lexer": "ipython3",
   "version": "3.7.6"
  }
 },
 "nbformat": 4,
 "nbformat_minor": 5
}
