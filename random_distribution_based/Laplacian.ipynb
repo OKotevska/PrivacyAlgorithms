{
 "cells": [
  {
   "cell_type": "code",
   "execution_count": 1,
   "id": "daily-louisville",
   "metadata": {},
   "outputs": [],
   "source": [
    "import math\n",
    "import numpy as np\n",
    "import pandas as pd"
   ]
  },
  {
   "cell_type": "code",
   "execution_count": 3,
   "id": "devoted-cleaners",
   "metadata": {},
   "outputs": [
    {
     "data": {
      "image/png": "[encoded data removed]",
      "text/plain": [
       "<Figure size 432x288 with 1 Axes>"
      ]
     },
     "metadata": {
      "needs_background": "light"
     },
     "output_type": "display_data"
    }
   ],
   "source": [
    "df = pd.read_csv('../data/Residential-Profiles.csv')\n",
    "df['Time'] = df['Time'].astype('datetime64')\n",
    "df.plot(x='Time', y='Household 1')\n",
    "houses = [\"Household \" + str(num) for num in range(1, 201)]"
   ]
  },
  {
   "cell_type": "code",
   "execution_count": null,
   "id": "labeled-strategy",
   "metadata": {},
   "outputs": [
    {
     "name": "stdout",
     "output_type": "stream",
     "text": [
      "********************************\n",
      "Grid Search on progress\n",
      "5 trials with epsilon values [0.1, 0.25, 0.5, 0.75, 1] and PEAK_VALUES of [6000, 7000, 8000, 9000, 10000]\n",
      "Take average of 5 iterations\n",
      "********************************\n",
      "Prining relative errors...\n",
      "PEAK value:  6000  ; epsilon:  0.1 ; iteration:  1 ; error:  107.7860570587423\n",
      "PEAK value:  6000  ; epsilon:  0.1 ; iteration:  2 ; error:  107.51169069821948\n"
     ]
    }
   ],
   "source": [
    "#building block\n",
    "#Grid search\n",
    "PEAK_VALUES = [6000, 7000, 8000, 9000, 10000]\n",
    "epsilons = [0.1, 0.25, 0.5, 0.75, 1]\n",
    "trials = [1,2,3,4,5]\n",
    "print(\"********************************\")\n",
    "print(\"Grid Search on progress\")\n",
    "print(\"5 trials with epsilon values [0.1, 0.25, 0.5, 0.75, 1] and PEAK_VALUES of [6000, 7000, 8000, 9000, 10000]\")\n",
    "print(\"Take average of 5 iterations\")\n",
    "print(\"********************************\")\n",
    "print(\"Prining relative errors...\")\n",
    "for PEAK_VALUE in PEAK_VALUES:\n",
    "    for epsilon in epsilons:\n",
    "        for trial in trials:\n",
    "            #epsilon=1\n",
    "            #PEAK_VALUE=8000 \n",
    "            EX = 0\n",
    "            total_relative_error = 0\n",
    "\n",
    "            for house in houses:\n",
    "                for timestamps in range(df.shape[0]):\n",
    "                    energy = df.at[timestamps,house]\n",
    "\n",
    "                    maxAllowedError = energy * 10 / 100\n",
    "                    sgd = maxAllowedError / 2.33\n",
    "                    sensitivity = math.sqrt((sgd*sgd) / 2)\n",
    "\n",
    "                    #laplace noise\n",
    "                    lap_noise = np.random.laplace(loc=0, scale=sensitivity/epsilon)\n",
    "                    noisy_energy = energy + lap_noise + EX\n",
    "                    if noisy_energy > PEAK_VALUE:\n",
    "                        EX = noisy_energy - PEAK_VALUE\n",
    "                        noisy_energy = PEAK_VALUE\n",
    "\n",
    "                    relative_error = abs(energy-noisy_energy)/energy\n",
    "                    total_relative_error += relative_error\n",
    "            \n",
    "            avg_relative_error = total_relative_error*100/(df.shape[0]*200)\n",
    "            print(\"PEAK value: \", PEAK_VALUE , \" ; epsilon: \", epsilon, \"; iteration: \", trial, \"; error: \", avg_relative_error)\n",
    "            "
   ]
  },
  {
   "cell_type": "code",
   "execution_count": null,
   "id": "confidential-teens",
   "metadata": {},
   "outputs": [],
   "source": []
  }
 ],
 "metadata": {
  "kernelspec": {
   "display_name": "Python 3",
   "language": "python",
   "name": "python3"
  },
  "language_info": {
   "codemirror_mode": {
    "name": "ipython",
    "version": 3
   },
   "file_extension": ".py",
   "mimetype": "text/x-python",
   "name": "python",
   "nbconvert_exporter": "python",
   "pygments_lexer": "ipython3",
   "version": "3.7.6"
  }
 },
 "nbformat": 4,
 "nbformat_minor": 5
}
